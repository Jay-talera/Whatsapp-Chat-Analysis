{
 "cells": [
  {
   "cell_type": "code",
   "execution_count": 3,
   "metadata": {},
   "outputs": [],
   "source": [
    "import re\n",
    "import pandas as pd"
   ]
  },
  {
   "cell_type": "code",
   "execution_count": 4,
   "metadata": {},
   "outputs": [],
   "source": [
    "f = open(\"dataset/And_Casa DDD-7.txt \",'r',encoding='utf-8')"
   ]
  },
  {
   "cell_type": "code",
   "execution_count": 5,
   "metadata": {},
   "outputs": [],
   "source": [
    "data = f.read()"
   ]
  },
  {
   "cell_type": "code",
   "execution_count": 6,
   "metadata": {},
   "outputs": [],
   "source": [
    "pattern = '\\d{1,2}/\\d{1,2}/\\d{2,4}, \\d{1,2}:\\d{1,2}'"
   ]
  },
  {
   "cell_type": "code",
   "execution_count": 7,
   "metadata": {},
   "outputs": [
    {
     "data": {
      "text/plain": [
       "364"
      ]
     },
     "execution_count": 7,
     "metadata": {},
     "output_type": "execute_result"
    }
   ],
   "source": [
    "messages = re.split(pattern, data)[2:]\n",
    "len(messages)"
   ]
  },
  {
   "cell_type": "code",
   "execution_count": 8,
   "metadata": {},
   "outputs": [
    {
     "data": {
      "text/plain": [
       "364"
      ]
     },
     "execution_count": 8,
     "metadata": {},
     "output_type": "execute_result"
    }
   ],
   "source": [
    "dates = re.findall(pattern, data)[1:]\n",
    "len(dates)"
   ]
  },
  {
   "cell_type": "code",
   "execution_count": 9,
   "metadata": {},
   "outputs": [
    {
     "data": {
      "text/html": [
       "<div>\n",
       "<style scoped>\n",
       "    .dataframe tbody tr th:only-of-type {\n",
       "        vertical-align: middle;\n",
       "    }\n",
       "\n",
       "    .dataframe tbody tr th {\n",
       "        vertical-align: top;\n",
       "    }\n",
       "\n",
       "    .dataframe thead th {\n",
       "        text-align: right;\n",
       "    }\n",
       "</style>\n",
       "<table border=\"1\" class=\"dataframe\">\n",
       "  <thead>\n",
       "    <tr style=\"text-align: right;\">\n",
       "      <th></th>\n",
       "      <th>user_message</th>\n",
       "      <th>message_date</th>\n",
       "    </tr>\n",
       "  </thead>\n",
       "  <tbody>\n",
       "    <tr>\n",
       "      <th>0</th>\n",
       "      <td>PM - You were added\\n</td>\n",
       "      <td>2/5/23, 9:59</td>\n",
       "    </tr>\n",
       "    <tr>\n",
       "      <th>1</th>\n",
       "      <td>PM - Udit Khanna  Cgc Khanne: Rent guyss????\\n</td>\n",
       "      <td>7/18/23, 6:55</td>\n",
       "    </tr>\n",
       "    <tr>\n",
       "      <th>2</th>\n",
       "      <td>PM - Udit Khanna  Cgc Khanne: 5000 daldijyee\\n</td>\n",
       "      <td>7/18/23, 6:55</td>\n",
       "    </tr>\n",
       "    <tr>\n",
       "      <th>3</th>\n",
       "      <td>PM - Jay Jain👑: &lt;Media omitted&gt;\\n</td>\n",
       "      <td>7/18/23, 6:56</td>\n",
       "    </tr>\n",
       "    <tr>\n",
       "      <th>4</th>\n",
       "      <td>PM - Jay Jain👑: Jay Jain\\n2003213\\n</td>\n",
       "      <td>7/18/23, 6:56</td>\n",
       "    </tr>\n",
       "    <tr>\n",
       "      <th>...</th>\n",
       "      <td>...</td>\n",
       "      <td>...</td>\n",
       "    </tr>\n",
       "    <tr>\n",
       "      <th>359</th>\n",
       "      <td>PM - Udit Khanna  Cgc Khanne: @919685257038 3...</td>\n",
       "      <td>1/29/24, 2:15</td>\n",
       "    </tr>\n",
       "    <tr>\n",
       "      <th>360</th>\n",
       "      <td>PM - Jay Jain👑: 105 @918627889728\\n</td>\n",
       "      <td>1/29/24, 2:15</td>\n",
       "    </tr>\n",
       "    <tr>\n",
       "      <th>361</th>\n",
       "      <td>PM - Jay Jain👑: 105 @917014684088\\n</td>\n",
       "      <td>1/29/24, 2:17</td>\n",
       "    </tr>\n",
       "    <tr>\n",
       "      <th>362</th>\n",
       "      <td>PM - Jay Jain👑: &lt;Media omitted&gt;\\n</td>\n",
       "      <td>2/1/24, 10:04</td>\n",
       "    </tr>\n",
       "    <tr>\n",
       "      <th>363</th>\n",
       "      <td>PM - Udit Khanna  Cgc Khanne: ??\\n</td>\n",
       "      <td>2/1/24, 10:08</td>\n",
       "    </tr>\n",
       "  </tbody>\n",
       "</table>\n",
       "<p>364 rows × 2 columns</p>\n",
       "</div>"
      ],
      "text/plain": [
       "                                          user_message   message_date\n",
       "0                                PM - You were added\\n   2/5/23, 9:59\n",
       "1       PM - Udit Khanna  Cgc Khanne: Rent guyss????\\n  7/18/23, 6:55\n",
       "2       PM - Udit Khanna  Cgc Khanne: 5000 daldijyee\\n  7/18/23, 6:55\n",
       "3                    PM - Jay Jain👑: <Media omitted>\\n  7/18/23, 6:56\n",
       "4                  PM - Jay Jain👑: Jay Jain\\n2003213\\n  7/18/23, 6:56\n",
       "..                                                 ...            ...\n",
       "359   PM - Udit Khanna  Cgc Khanne: @919685257038 3...  1/29/24, 2:15\n",
       "360                PM - Jay Jain👑: 105 @918627889728\\n  1/29/24, 2:15\n",
       "361                PM - Jay Jain👑: 105 @917014684088\\n  1/29/24, 2:17\n",
       "362                  PM - Jay Jain👑: <Media omitted>\\n  2/1/24, 10:04\n",
       "363                 PM - Udit Khanna  Cgc Khanne: ??\\n  2/1/24, 10:08\n",
       "\n",
       "[364 rows x 2 columns]"
      ]
     },
     "execution_count": 9,
     "metadata": {},
     "output_type": "execute_result"
    }
   ],
   "source": [
    "df = pd.DataFrame({'user_message':messages, 'message_date': dates})\n",
    "df"
   ]
  },
  {
   "cell_type": "code",
   "execution_count": 10,
   "metadata": {},
   "outputs": [],
   "source": [
    "df['message_date'] = pd.to_datetime(df['message_date'])"
   ]
  },
  {
   "cell_type": "code",
   "execution_count": 11,
   "metadata": {},
   "outputs": [
    {
     "data": {
      "text/html": [
       "<div>\n",
       "<style scoped>\n",
       "    .dataframe tbody tr th:only-of-type {\n",
       "        vertical-align: middle;\n",
       "    }\n",
       "\n",
       "    .dataframe tbody tr th {\n",
       "        vertical-align: top;\n",
       "    }\n",
       "\n",
       "    .dataframe thead th {\n",
       "        text-align: right;\n",
       "    }\n",
       "</style>\n",
       "<table border=\"1\" class=\"dataframe\">\n",
       "  <thead>\n",
       "    <tr style=\"text-align: right;\">\n",
       "      <th></th>\n",
       "      <th>user_message</th>\n",
       "      <th>message_date</th>\n",
       "    </tr>\n",
       "  </thead>\n",
       "  <tbody>\n",
       "    <tr>\n",
       "      <th>0</th>\n",
       "      <td>You were added\\n</td>\n",
       "      <td>2023-02-05 09:59:00</td>\n",
       "    </tr>\n",
       "    <tr>\n",
       "      <th>1</th>\n",
       "      <td>Udit Khanna  Cgc Khanne: Rent guyss????\\n</td>\n",
       "      <td>2023-07-18 06:55:00</td>\n",
       "    </tr>\n",
       "    <tr>\n",
       "      <th>2</th>\n",
       "      <td>Udit Khanna  Cgc Khanne: 5000 daldijyee\\n</td>\n",
       "      <td>2023-07-18 06:55:00</td>\n",
       "    </tr>\n",
       "    <tr>\n",
       "      <th>3</th>\n",
       "      <td>Jay Jain👑: &lt;Media omitted&gt;\\n</td>\n",
       "      <td>2023-07-18 06:56:00</td>\n",
       "    </tr>\n",
       "    <tr>\n",
       "      <th>4</th>\n",
       "      <td>Jay Jain👑: Jay Jain\\n2003213\\n</td>\n",
       "      <td>2023-07-18 06:56:00</td>\n",
       "    </tr>\n",
       "    <tr>\n",
       "      <th>...</th>\n",
       "      <td>...</td>\n",
       "      <td>...</td>\n",
       "    </tr>\n",
       "    <tr>\n",
       "      <th>359</th>\n",
       "      <td>Udit Khanna  Cgc Khanne: @919685257038 300\\n</td>\n",
       "      <td>2024-01-29 02:15:00</td>\n",
       "    </tr>\n",
       "    <tr>\n",
       "      <th>360</th>\n",
       "      <td>Jay Jain👑: 105 @918627889728\\n</td>\n",
       "      <td>2024-01-29 02:15:00</td>\n",
       "    </tr>\n",
       "    <tr>\n",
       "      <th>361</th>\n",
       "      <td>Jay Jain👑: 105 @917014684088\\n</td>\n",
       "      <td>2024-01-29 02:17:00</td>\n",
       "    </tr>\n",
       "    <tr>\n",
       "      <th>362</th>\n",
       "      <td>Jay Jain👑: &lt;Media omitted&gt;\\n</td>\n",
       "      <td>2024-02-01 10:04:00</td>\n",
       "    </tr>\n",
       "    <tr>\n",
       "      <th>363</th>\n",
       "      <td>Udit Khanna  Cgc Khanne: ??\\n</td>\n",
       "      <td>2024-02-01 10:08:00</td>\n",
       "    </tr>\n",
       "  </tbody>\n",
       "</table>\n",
       "<p>364 rows × 2 columns</p>\n",
       "</div>"
      ],
      "text/plain": [
       "                                     user_message        message_date\n",
       "0                                You were added\\n 2023-02-05 09:59:00\n",
       "1       Udit Khanna  Cgc Khanne: Rent guyss????\\n 2023-07-18 06:55:00\n",
       "2       Udit Khanna  Cgc Khanne: 5000 daldijyee\\n 2023-07-18 06:55:00\n",
       "3                    Jay Jain👑: <Media omitted>\\n 2023-07-18 06:56:00\n",
       "4                  Jay Jain👑: Jay Jain\\n2003213\\n 2023-07-18 06:56:00\n",
       "..                                            ...                 ...\n",
       "359  Udit Khanna  Cgc Khanne: @919685257038 300\\n 2024-01-29 02:15:00\n",
       "360                Jay Jain👑: 105 @918627889728\\n 2024-01-29 02:15:00\n",
       "361                Jay Jain👑: 105 @917014684088\\n 2024-01-29 02:17:00\n",
       "362                  Jay Jain👑: <Media omitted>\\n 2024-02-01 10:04:00\n",
       "363                 Udit Khanna  Cgc Khanne: ??\\n 2024-02-01 10:08:00\n",
       "\n",
       "[364 rows x 2 columns]"
      ]
     },
     "execution_count": 11,
     "metadata": {},
     "output_type": "execute_result"
    }
   ],
   "source": [
    "df['user_message'].replace(to_replace=r'^\\u202f(PM|AM) - ',value='',regex=True,inplace=True)\n",
    "df"
   ]
  },
  {
   "cell_type": "code",
   "execution_count": 12,
   "metadata": {},
   "outputs": [
    {
     "data": {
      "text/html": [
       "<div>\n",
       "<style scoped>\n",
       "    .dataframe tbody tr th:only-of-type {\n",
       "        vertical-align: middle;\n",
       "    }\n",
       "\n",
       "    .dataframe tbody tr th {\n",
       "        vertical-align: top;\n",
       "    }\n",
       "\n",
       "    .dataframe thead th {\n",
       "        text-align: right;\n",
       "    }\n",
       "</style>\n",
       "<table border=\"1\" class=\"dataframe\">\n",
       "  <thead>\n",
       "    <tr style=\"text-align: right;\">\n",
       "      <th></th>\n",
       "      <th>message_date</th>\n",
       "      <th>user</th>\n",
       "      <th>message</th>\n",
       "    </tr>\n",
       "  </thead>\n",
       "  <tbody>\n",
       "    <tr>\n",
       "      <th>0</th>\n",
       "      <td>2023-02-05 09:59:00</td>\n",
       "      <td>group_notification</td>\n",
       "      <td>You were added\\n</td>\n",
       "    </tr>\n",
       "    <tr>\n",
       "      <th>1</th>\n",
       "      <td>2023-07-18 06:55:00</td>\n",
       "      <td>Udit Khanna  Cgc Khanne</td>\n",
       "      <td>Rent guyss????\\n</td>\n",
       "    </tr>\n",
       "    <tr>\n",
       "      <th>2</th>\n",
       "      <td>2023-07-18 06:55:00</td>\n",
       "      <td>Udit Khanna  Cgc Khanne</td>\n",
       "      <td>5000 daldijyee\\n</td>\n",
       "    </tr>\n",
       "    <tr>\n",
       "      <th>3</th>\n",
       "      <td>2023-07-18 06:56:00</td>\n",
       "      <td>Jay Jain👑</td>\n",
       "      <td>&lt;Media omitted&gt;\\n</td>\n",
       "    </tr>\n",
       "    <tr>\n",
       "      <th>4</th>\n",
       "      <td>2023-07-18 06:56:00</td>\n",
       "      <td>Jay Jain👑</td>\n",
       "      <td>Jay Jain\\n2003213\\n</td>\n",
       "    </tr>\n",
       "  </tbody>\n",
       "</table>\n",
       "</div>"
      ],
      "text/plain": [
       "         message_date                     user              message\n",
       "0 2023-02-05 09:59:00       group_notification     You were added\\n\n",
       "1 2023-07-18 06:55:00  Udit Khanna  Cgc Khanne     Rent guyss????\\n\n",
       "2 2023-07-18 06:55:00  Udit Khanna  Cgc Khanne     5000 daldijyee\\n\n",
       "3 2023-07-18 06:56:00                Jay Jain👑    <Media omitted>\\n\n",
       "4 2023-07-18 06:56:00                Jay Jain👑  Jay Jain\\n2003213\\n"
      ]
     },
     "execution_count": 12,
     "metadata": {},
     "output_type": "execute_result"
    }
   ],
   "source": [
    "users = []\n",
    "messages = []\n",
    "for msg in df['user_message']:\n",
    "    entry = re.split('([\\w\\W]+?):\\s',msg)\n",
    "    if entry[1:]:\n",
    "        users.append(entry[1])\n",
    "        messages.append(entry[2])\n",
    "    else:\n",
    "        users.append('group_notification')\n",
    "        messages.append(entry[0])\n",
    "\n",
    "df['user'] = users\n",
    "df['message'] = messages\n",
    "df.drop(columns=['user_message'],inplace=True)\n",
    "df.head()"
   ]
  },
  {
   "cell_type": "code",
   "execution_count": 13,
   "metadata": {},
   "outputs": [
    {
     "data": {
      "text/plain": [
       "array(['group_notification', 'Udit Khanna  Cgc Khanne', 'Jay Jain👑',\n",
       "       'Yusuf Chacha 🧔🏼', 'Rohan Darling❤️ Non Elite',\n",
       "       'Gajju Eveningstar😈', 'Puniya Baby 😘😘', 'Peaky🕵🏻\\u200d♂️'],\n",
       "      dtype=object)"
      ]
     },
     "execution_count": 13,
     "metadata": {},
     "output_type": "execute_result"
    }
   ],
   "source": [
    "df['user'].unique()"
   ]
  },
  {
   "cell_type": "code",
   "execution_count": 14,
   "metadata": {},
   "outputs": [
    {
     "data": {
      "text/html": [
       "<div>\n",
       "<style scoped>\n",
       "    .dataframe tbody tr th:only-of-type {\n",
       "        vertical-align: middle;\n",
       "    }\n",
       "\n",
       "    .dataframe tbody tr th {\n",
       "        vertical-align: top;\n",
       "    }\n",
       "\n",
       "    .dataframe thead th {\n",
       "        text-align: right;\n",
       "    }\n",
       "</style>\n",
       "<table border=\"1\" class=\"dataframe\">\n",
       "  <thead>\n",
       "    <tr style=\"text-align: right;\">\n",
       "      <th></th>\n",
       "      <th>message_date</th>\n",
       "      <th>user</th>\n",
       "      <th>message</th>\n",
       "      <th>year</th>\n",
       "      <th>month</th>\n",
       "      <th>day</th>\n",
       "      <th>hour</th>\n",
       "      <th>minute</th>\n",
       "    </tr>\n",
       "  </thead>\n",
       "  <tbody>\n",
       "    <tr>\n",
       "      <th>0</th>\n",
       "      <td>2023-02-05 09:59:00</td>\n",
       "      <td>group_notification</td>\n",
       "      <td>You were added\\n</td>\n",
       "      <td>2023</td>\n",
       "      <td>February</td>\n",
       "      <td>5</td>\n",
       "      <td>9</td>\n",
       "      <td>59</td>\n",
       "    </tr>\n",
       "    <tr>\n",
       "      <th>1</th>\n",
       "      <td>2023-07-18 06:55:00</td>\n",
       "      <td>Udit Khanna  Cgc Khanne</td>\n",
       "      <td>Rent guyss????\\n</td>\n",
       "      <td>2023</td>\n",
       "      <td>July</td>\n",
       "      <td>18</td>\n",
       "      <td>6</td>\n",
       "      <td>55</td>\n",
       "    </tr>\n",
       "    <tr>\n",
       "      <th>2</th>\n",
       "      <td>2023-07-18 06:55:00</td>\n",
       "      <td>Udit Khanna  Cgc Khanne</td>\n",
       "      <td>5000 daldijyee\\n</td>\n",
       "      <td>2023</td>\n",
       "      <td>July</td>\n",
       "      <td>18</td>\n",
       "      <td>6</td>\n",
       "      <td>55</td>\n",
       "    </tr>\n",
       "    <tr>\n",
       "      <th>3</th>\n",
       "      <td>2023-07-18 06:56:00</td>\n",
       "      <td>Jay Jain👑</td>\n",
       "      <td>&lt;Media omitted&gt;\\n</td>\n",
       "      <td>2023</td>\n",
       "      <td>July</td>\n",
       "      <td>18</td>\n",
       "      <td>6</td>\n",
       "      <td>56</td>\n",
       "    </tr>\n",
       "    <tr>\n",
       "      <th>4</th>\n",
       "      <td>2023-07-18 06:56:00</td>\n",
       "      <td>Jay Jain👑</td>\n",
       "      <td>Jay Jain\\n2003213\\n</td>\n",
       "      <td>2023</td>\n",
       "      <td>July</td>\n",
       "      <td>18</td>\n",
       "      <td>6</td>\n",
       "      <td>56</td>\n",
       "    </tr>\n",
       "  </tbody>\n",
       "</table>\n",
       "</div>"
      ],
      "text/plain": [
       "         message_date                     user              message  year  \\\n",
       "0 2023-02-05 09:59:00       group_notification     You were added\\n  2023   \n",
       "1 2023-07-18 06:55:00  Udit Khanna  Cgc Khanne     Rent guyss????\\n  2023   \n",
       "2 2023-07-18 06:55:00  Udit Khanna  Cgc Khanne     5000 daldijyee\\n  2023   \n",
       "3 2023-07-18 06:56:00                Jay Jain👑    <Media omitted>\\n  2023   \n",
       "4 2023-07-18 06:56:00                Jay Jain👑  Jay Jain\\n2003213\\n  2023   \n",
       "\n",
       "      month  day  hour  minute  \n",
       "0  February    5     9      59  \n",
       "1      July   18     6      55  \n",
       "2      July   18     6      55  \n",
       "3      July   18     6      56  \n",
       "4      July   18     6      56  "
      ]
     },
     "execution_count": 14,
     "metadata": {},
     "output_type": "execute_result"
    }
   ],
   "source": [
    "df['year'] = df['message_date'].dt.year\n",
    "df['month'] = df['message_date'].dt.month_name()\n",
    "df['day'] = df['message_date'].dt.day\n",
    "\n",
    "df['hour'] = df['message_date'].dt.hour\n",
    "df['minute'] = df['message_date'].dt.minute\n",
    "df.head()"
   ]
  },
  {
   "cell_type": "code",
   "execution_count": 15,
   "metadata": {},
   "outputs": [
    {
     "data": {
      "text/plain": [
       "3"
      ]
     },
     "execution_count": 15,
     "metadata": {},
     "output_type": "execute_result"
    }
   ],
   "source": [
    "df[df['user']==df['user'].unique()[0]].shape[0]"
   ]
  },
  {
   "cell_type": "code",
   "execution_count": 16,
   "metadata": {},
   "outputs": [
    {
     "data": {
      "text/plain": [
       "1653"
      ]
     },
     "execution_count": 16,
     "metadata": {},
     "output_type": "execute_result"
    }
   ],
   "source": [
    "words = []\n",
    "for msg in df['message']:\n",
    "    words.extend(msg.split())\n",
    "len(words)"
   ]
  },
  {
   "cell_type": "code",
   "execution_count": 17,
   "metadata": {},
   "outputs": [
    {
     "data": {
      "text/plain": [
       "46"
      ]
     },
     "execution_count": 17,
     "metadata": {},
     "output_type": "execute_result"
    }
   ],
   "source": [
    "df[df['message'] == '<Media omitted>\\n'].shape[0]"
   ]
  },
  {
   "cell_type": "code",
   "execution_count": 18,
   "metadata": {},
   "outputs": [],
   "source": [
    "from urlextract import URLExtract\n",
    "extractor = URLExtract()"
   ]
  },
  {
   "cell_type": "code",
   "execution_count": 19,
   "metadata": {},
   "outputs": [
    {
     "data": {
      "text/plain": [
       "4"
      ]
     },
     "execution_count": 19,
     "metadata": {},
     "output_type": "execute_result"
    }
   ],
   "source": [
    "links = []\n",
    "for msg in df['message']:\n",
    "    links.extend(extractor.find_urls(msg))\n",
    "len(links)"
   ]
  },
  {
   "cell_type": "code",
   "execution_count": 20,
   "metadata": {},
   "outputs": [],
   "source": [
    "x = df['user'].value_counts().head()"
   ]
  },
  {
   "cell_type": "code",
   "execution_count": 21,
   "metadata": {},
   "outputs": [
    {
     "name": "stderr",
     "output_type": "stream",
     "text": [
      "c:\\Users\\taler\\anaconda3\\envs\\whatsappenv\\lib\\site-packages\\IPython\\core\\pylabtools.py:151: UserWarning: Glyph 128081 (\\N{CROWN}) missing from current font.\n",
      "  fig.canvas.print_figure(bytes_io, **kw)\n",
      "c:\\Users\\taler\\anaconda3\\envs\\whatsappenv\\lib\\site-packages\\IPython\\core\\pylabtools.py:151: UserWarning: Glyph 129492 (\\N{BEARDED PERSON}) missing from current font.\n",
      "  fig.canvas.print_figure(bytes_io, **kw)\n",
      "c:\\Users\\taler\\anaconda3\\envs\\whatsappenv\\lib\\site-packages\\IPython\\core\\pylabtools.py:151: UserWarning: Glyph 127996 (\\N{EMOJI MODIFIER FITZPATRICK TYPE-3}) missing from current font.\n",
      "  fig.canvas.print_figure(bytes_io, **kw)\n"
     ]
    },
    {
     "data": {
      "image/png": "[encoded data removed]",
      "text/plain": [
       "<Figure size 640x480 with 1 Axes>"
      ]
     },
     "metadata": {},
     "output_type": "display_data"
    }
   ],
   "source": [
    "import matplotlib.pyplot as plt \n",
    "plt.bar(x.index,x.values)\n",
    "plt.xticks(rotation=65)\n",
    "plt.show()"
   ]
  },
  {
   "cell_type": "code",
   "execution_count": 22,
   "metadata": {},
   "outputs": [
    {
     "data": {
      "text/plain": [
       "Jay Jain👑                    31.32\n",
       "Udit Khanna  Cgc Khanne      31.04\n",
       "Gajju Eveningstar😈           14.56\n",
       "Yusuf Chacha 🧔🏼              11.54\n",
       "Rohan Darling❤️ Non Elite     8.52\n",
       "Puniya Baby 😘😘                1.10\n",
       "Peaky🕵🏻‍♂️                    1.10\n",
       "group_notification            0.82\n",
       "Name: user, dtype: float64"
      ]
     },
     "execution_count": 22,
     "metadata": {},
     "output_type": "execute_result"
    }
   ],
   "source": [
    "x = round(df['user'].value_counts()/df.shape[0] *100,2)\n",
    "x"
   ]
  },
  {
   "cell_type": "code",
   "execution_count": 23,
   "metadata": {},
   "outputs": [
    {
     "name": "stderr",
     "output_type": "stream",
     "text": [
      "c:\\Users\\taler\\anaconda3\\envs\\whatsappenv\\lib\\site-packages\\IPython\\core\\pylabtools.py:151: UserWarning: Glyph 128081 (\\N{CROWN}) missing from current font.\n",
      "  fig.canvas.print_figure(bytes_io, **kw)\n",
      "c:\\Users\\taler\\anaconda3\\envs\\whatsappenv\\lib\\site-packages\\IPython\\core\\pylabtools.py:151: UserWarning: Glyph 129492 (\\N{BEARDED PERSON}) missing from current font.\n",
      "  fig.canvas.print_figure(bytes_io, **kw)\n",
      "c:\\Users\\taler\\anaconda3\\envs\\whatsappenv\\lib\\site-packages\\IPython\\core\\pylabtools.py:151: UserWarning: Glyph 127996 (\\N{EMOJI MODIFIER FITZPATRICK TYPE-3}) missing from current font.\n",
      "  fig.canvas.print_figure(bytes_io, **kw)\n",
      "c:\\Users\\taler\\anaconda3\\envs\\whatsappenv\\lib\\site-packages\\IPython\\core\\pylabtools.py:151: UserWarning: Glyph 128373 (\\N{SLEUTH OR SPY}) missing from current font.\n",
      "  fig.canvas.print_figure(bytes_io, **kw)\n",
      "c:\\Users\\taler\\anaconda3\\envs\\whatsappenv\\lib\\site-packages\\IPython\\core\\pylabtools.py:151: UserWarning: Glyph 127995 (\\N{EMOJI MODIFIER FITZPATRICK TYPE-1-2}) missing from current font.\n",
      "  fig.canvas.print_figure(bytes_io, **kw)\n"
     ]
    },
    {
     "data": {
      "image/png": "[encoded data removed]",
      "text/plain": [
       "<Figure size 640x480 with 1 Axes>"
      ]
     },
     "metadata": {},
     "output_type": "display_data"
    }
   ],
   "source": [
    "plt.bar(x.index,x.values)\n",
    "plt.xticks(rotation=65)\n",
    "plt.show()\n"
   ]
  },
  {
   "cell_type": "code",
   "execution_count": 24,
   "metadata": {},
   "outputs": [
    {
     "data": {
      "text/html": [
       "<div>\n",
       "<style scoped>\n",
       "    .dataframe tbody tr th:only-of-type {\n",
       "        vertical-align: middle;\n",
       "    }\n",
       "\n",
       "    .dataframe tbody tr th {\n",
       "        vertical-align: top;\n",
       "    }\n",
       "\n",
       "    .dataframe thead th {\n",
       "        text-align: right;\n",
       "    }\n",
       "</style>\n",
       "<table border=\"1\" class=\"dataframe\">\n",
       "  <thead>\n",
       "    <tr style=\"text-align: right;\">\n",
       "      <th></th>\n",
       "      <th>message_date</th>\n",
       "      <th>user</th>\n",
       "      <th>message</th>\n",
       "      <th>year</th>\n",
       "      <th>month</th>\n",
       "      <th>day</th>\n",
       "      <th>hour</th>\n",
       "      <th>minute</th>\n",
       "    </tr>\n",
       "  </thead>\n",
       "  <tbody>\n",
       "    <tr>\n",
       "      <th>0</th>\n",
       "      <td>2023-02-05 09:59:00</td>\n",
       "      <td>group_notification</td>\n",
       "      <td>You were added\\n</td>\n",
       "      <td>2023</td>\n",
       "      <td>February</td>\n",
       "      <td>5</td>\n",
       "      <td>9</td>\n",
       "      <td>59</td>\n",
       "    </tr>\n",
       "    <tr>\n",
       "      <th>1</th>\n",
       "      <td>2023-07-18 06:55:00</td>\n",
       "      <td>Udit Khanna  Cgc Khanne</td>\n",
       "      <td>Rent guyss????\\n</td>\n",
       "      <td>2023</td>\n",
       "      <td>July</td>\n",
       "      <td>18</td>\n",
       "      <td>6</td>\n",
       "      <td>55</td>\n",
       "    </tr>\n",
       "    <tr>\n",
       "      <th>2</th>\n",
       "      <td>2023-07-18 06:55:00</td>\n",
       "      <td>Udit Khanna  Cgc Khanne</td>\n",
       "      <td>5000 daldijyee\\n</td>\n",
       "      <td>2023</td>\n",
       "      <td>July</td>\n",
       "      <td>18</td>\n",
       "      <td>6</td>\n",
       "      <td>55</td>\n",
       "    </tr>\n",
       "    <tr>\n",
       "      <th>4</th>\n",
       "      <td>2023-07-18 06:56:00</td>\n",
       "      <td>Jay Jain👑</td>\n",
       "      <td>Jay Jain\\n2003213\\n</td>\n",
       "      <td>2023</td>\n",
       "      <td>July</td>\n",
       "      <td>18</td>\n",
       "      <td>6</td>\n",
       "      <td>56</td>\n",
       "    </tr>\n",
       "    <tr>\n",
       "      <th>5</th>\n",
       "      <td>2023-07-18 07:26:00</td>\n",
       "      <td>Udit Khanna  Cgc Khanne</td>\n",
       "      <td>+20\\n</td>\n",
       "      <td>2023</td>\n",
       "      <td>July</td>\n",
       "      <td>18</td>\n",
       "      <td>7</td>\n",
       "      <td>26</td>\n",
       "    </tr>\n",
       "    <tr>\n",
       "      <th>...</th>\n",
       "      <td>...</td>\n",
       "      <td>...</td>\n",
       "      <td>...</td>\n",
       "      <td>...</td>\n",
       "      <td>...</td>\n",
       "      <td>...</td>\n",
       "      <td>...</td>\n",
       "      <td>...</td>\n",
       "    </tr>\n",
       "    <tr>\n",
       "      <th>358</th>\n",
       "      <td>2024-01-29 02:15:00</td>\n",
       "      <td>Udit Khanna  Cgc Khanne</td>\n",
       "      <td>@919131183997 310\\n</td>\n",
       "      <td>2024</td>\n",
       "      <td>January</td>\n",
       "      <td>29</td>\n",
       "      <td>2</td>\n",
       "      <td>15</td>\n",
       "    </tr>\n",
       "    <tr>\n",
       "      <th>359</th>\n",
       "      <td>2024-01-29 02:15:00</td>\n",
       "      <td>Udit Khanna  Cgc Khanne</td>\n",
       "      <td>@919685257038 300\\n</td>\n",
       "      <td>2024</td>\n",
       "      <td>January</td>\n",
       "      <td>29</td>\n",
       "      <td>2</td>\n",
       "      <td>15</td>\n",
       "    </tr>\n",
       "    <tr>\n",
       "      <th>360</th>\n",
       "      <td>2024-01-29 02:15:00</td>\n",
       "      <td>Jay Jain👑</td>\n",
       "      <td>105 @918627889728\\n</td>\n",
       "      <td>2024</td>\n",
       "      <td>January</td>\n",
       "      <td>29</td>\n",
       "      <td>2</td>\n",
       "      <td>15</td>\n",
       "    </tr>\n",
       "    <tr>\n",
       "      <th>361</th>\n",
       "      <td>2024-01-29 02:17:00</td>\n",
       "      <td>Jay Jain👑</td>\n",
       "      <td>105 @917014684088\\n</td>\n",
       "      <td>2024</td>\n",
       "      <td>January</td>\n",
       "      <td>29</td>\n",
       "      <td>2</td>\n",
       "      <td>17</td>\n",
       "    </tr>\n",
       "    <tr>\n",
       "      <th>363</th>\n",
       "      <td>2024-02-01 10:08:00</td>\n",
       "      <td>Udit Khanna  Cgc Khanne</td>\n",
       "      <td>??\\n</td>\n",
       "      <td>2024</td>\n",
       "      <td>February</td>\n",
       "      <td>1</td>\n",
       "      <td>10</td>\n",
       "      <td>8</td>\n",
       "    </tr>\n",
       "  </tbody>\n",
       "</table>\n",
       "<p>318 rows × 8 columns</p>\n",
       "</div>"
      ],
      "text/plain": [
       "           message_date                     user              message  year  \\\n",
       "0   2023-02-05 09:59:00       group_notification     You were added\\n  2023   \n",
       "1   2023-07-18 06:55:00  Udit Khanna  Cgc Khanne     Rent guyss????\\n  2023   \n",
       "2   2023-07-18 06:55:00  Udit Khanna  Cgc Khanne     5000 daldijyee\\n  2023   \n",
       "4   2023-07-18 06:56:00                Jay Jain👑  Jay Jain\\n2003213\\n  2023   \n",
       "5   2023-07-18 07:26:00  Udit Khanna  Cgc Khanne                +20\\n  2023   \n",
       "..                  ...                      ...                  ...   ...   \n",
       "358 2024-01-29 02:15:00  Udit Khanna  Cgc Khanne  @919131183997 310\\n  2024   \n",
       "359 2024-01-29 02:15:00  Udit Khanna  Cgc Khanne  @919685257038 300\\n  2024   \n",
       "360 2024-01-29 02:15:00                Jay Jain👑  105 @918627889728\\n  2024   \n",
       "361 2024-01-29 02:17:00                Jay Jain👑  105 @917014684088\\n  2024   \n",
       "363 2024-02-01 10:08:00  Udit Khanna  Cgc Khanne                 ??\\n  2024   \n",
       "\n",
       "        month  day  hour  minute  \n",
       "0    February    5     9      59  \n",
       "1        July   18     6      55  \n",
       "2        July   18     6      55  \n",
       "4        July   18     6      56  \n",
       "5        July   18     7      26  \n",
       "..        ...  ...   ...     ...  \n",
       "358   January   29     2      15  \n",
       "359   January   29     2      15  \n",
       "360   January   29     2      15  \n",
       "361   January   29     2      17  \n",
       "363  February    1    10       8  \n",
       "\n",
       "[318 rows x 8 columns]"
      ]
     },
     "execution_count": 24,
     "metadata": {},
     "output_type": "execute_result"
    }
   ],
   "source": [
    "df[df['message']!='<Media omitted>\\n']"
   ]
  },
  {
   "cell_type": "code",
   "execution_count": 25,
   "metadata": {},
   "outputs": [
    {
     "data": {
      "text/html": [
       "<div>\n",
       "<style scoped>\n",
       "    .dataframe tbody tr th:only-of-type {\n",
       "        vertical-align: middle;\n",
       "    }\n",
       "\n",
       "    .dataframe tbody tr th {\n",
       "        vertical-align: top;\n",
       "    }\n",
       "\n",
       "    .dataframe thead th {\n",
       "        text-align: right;\n",
       "    }\n",
       "</style>\n",
       "<table border=\"1\" class=\"dataframe\">\n",
       "  <thead>\n",
       "    <tr style=\"text-align: right;\">\n",
       "      <th></th>\n",
       "      <th>message_date</th>\n",
       "      <th>user</th>\n",
       "      <th>message</th>\n",
       "      <th>year</th>\n",
       "      <th>month</th>\n",
       "      <th>day</th>\n",
       "      <th>hour</th>\n",
       "      <th>minute</th>\n",
       "    </tr>\n",
       "  </thead>\n",
       "  <tbody>\n",
       "    <tr>\n",
       "      <th>48</th>\n",
       "      <td>2023-08-02 03:08:00</td>\n",
       "      <td>Puniya Baby 😘😘</td>\n",
       "      <td>&lt;Media omitted&gt;\\n</td>\n",
       "      <td>2023</td>\n",
       "      <td>August</td>\n",
       "      <td>2</td>\n",
       "      <td>3</td>\n",
       "      <td>8</td>\n",
       "    </tr>\n",
       "    <tr>\n",
       "      <th>49</th>\n",
       "      <td>2023-08-02 03:08:00</td>\n",
       "      <td>Puniya Baby 😘😘</td>\n",
       "      <td>सादर जयजिनेंद्र , \\nबहुत ही हर्ष के साथ ' नलवा...</td>\n",
       "      <td>2023</td>\n",
       "      <td>August</td>\n",
       "      <td>2</td>\n",
       "      <td>3</td>\n",
       "      <td>8</td>\n",
       "    </tr>\n",
       "    <tr>\n",
       "      <th>50</th>\n",
       "      <td>2023-08-02 03:09:00</td>\n",
       "      <td>Puniya Baby 😘😘</td>\n",
       "      <td>सभी भाइयो को अवश्य पधारना है\\n</td>\n",
       "      <td>2023</td>\n",
       "      <td>August</td>\n",
       "      <td>2</td>\n",
       "      <td>3</td>\n",
       "      <td>9</td>\n",
       "    </tr>\n",
       "    <tr>\n",
       "      <th>55</th>\n",
       "      <td>2023-08-02 06:43:00</td>\n",
       "      <td>Puniya Baby 😘😘</td>\n",
       "      <td>उन में आप भी आते हो\\n</td>\n",
       "      <td>2023</td>\n",
       "      <td>August</td>\n",
       "      <td>2</td>\n",
       "      <td>6</td>\n",
       "      <td>43</td>\n",
       "    </tr>\n",
       "  </tbody>\n",
       "</table>\n",
       "</div>"
      ],
      "text/plain": [
       "          message_date            user  \\\n",
       "48 2023-08-02 03:08:00  Puniya Baby 😘😘   \n",
       "49 2023-08-02 03:08:00  Puniya Baby 😘😘   \n",
       "50 2023-08-02 03:09:00  Puniya Baby 😘😘   \n",
       "55 2023-08-02 06:43:00  Puniya Baby 😘😘   \n",
       "\n",
       "                                              message  year   month  day  \\\n",
       "48                                  <Media omitted>\\n  2023  August    2   \n",
       "49  सादर जयजिनेंद्र , \\nबहुत ही हर्ष के साथ ' नलवा...  2023  August    2   \n",
       "50                     सभी भाइयो को अवश्य पधारना है\\n  2023  August    2   \n",
       "55                              उन में आप भी आते हो\\n  2023  August    2   \n",
       "\n",
       "    hour  minute  \n",
       "48     3       8  \n",
       "49     3       8  \n",
       "50     3       9  \n",
       "55     6      43  "
      ]
     },
     "execution_count": 25,
     "metadata": {},
     "output_type": "execute_result"
    }
   ],
   "source": [
    "df[df['user']=='Puniya Baby 😘😘']"
   ]
  },
  {
   "cell_type": "code",
   "execution_count": 26,
   "metadata": {},
   "outputs": [],
   "source": [
    "from wordcloud import WordCloud"
   ]
  },
  {
   "cell_type": "code",
   "execution_count": 27,
   "metadata": {},
   "outputs": [],
   "source": [
    "import requests\n",
    "url = \"https://hindityping.info/download/assets/Hindi-Fonts-Unicode/gargi.ttf\"\n",
    "\n",
    "r = requests.get(url, allow_redirects=True)\n",
    "font_path=\"font/gargi.ttf\"\n",
    "\n",
    "with open(font_path, \"wb\") as fw:\n",
    "  fw.write(r.content)"
   ]
  },
  {
   "cell_type": "code",
   "execution_count": 28,
   "metadata": {},
   "outputs": [
    {
     "data": {
      "text/plain": [
       "<matplotlib.image.AxesImage at 0x21ba8156748>"
      ]
     },
     "execution_count": 28,
     "metadata": {},
     "output_type": "execute_result"
    },
    {
     "data": {
      "image/png": "[encoded data removed]",
      "text/plain": [
       "<Figure size 640x480 with 1 Axes>"
      ]
     },
     "metadata": {},
     "output_type": "display_data"
    }
   ],
   "source": [
    "from wordcloud import WordCloud\n",
    "wc = WordCloud(width=500,height=100,min_font_size=10,background_color='white',font_path=font_path)\n",
    "df = df[df['user']=='Puniya Baby 😘😘']\n",
    "df = df[df['message']!='<Media omitted>\\n']\n",
    "df = df[df['message'] != '\\u200eimage omitted\\n']\n",
    "df = df[df['message']!='\\u200esticker omitted\\n']\n",
    "\n",
    "df_wc = wc.generate(df['message'].str.cat(sep=\" \"))\n",
    "plt.imshow(df_wc)"
   ]
  }
 ],
 "metadata": {
  "kernelspec": {
   "display_name": "venv",
   "language": "python",
   "name": "python3"
  },
  "language_info": {
   "codemirror_mode": {
    "name": "ipython",
    "version": 3
   },
   "file_extension": ".py",
   "mimetype": "text/x-python",
   "name": "python",
   "nbconvert_exporter": "python",
   "pygments_lexer": "ipython3",
   "version": "3.7.16"
  }
 },
 "nbformat": 4,
 "nbformat_minor": 2
}
